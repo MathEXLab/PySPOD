{
 "cells": [
  {
   "cell_type": "code",
   "execution_count": 1,
   "metadata": {},
   "outputs": [],
   "source": [
    "#!/usr/bin/env python\n",
    "\n",
    "import cdsapi\n",
    "import xarray as xr"
   ]
  },
  {
   "cell_type": "markdown",
   "metadata": {},
   "source": [
    "Install CDS API by: pip install cdsapi\n",
    "\n",
    "Setup API for personal research purpose: https://cds.climate.copernicus.eu/how-to-api\n",
    "\n",
    "Agreements and manually download:\n",
    "https://cds.climate.copernicus.eu/datasets/reanalysis-era5-single-levels-monthly-means?tab=download#manage-licences\n",
    "\n",
    "For Windows, the initial dir for license is: \"C:\\Users\\$USERNAME$\\.cdsapirc\"\n",
    "\n",
    "For Linux, the license is locateda at: ~/.cdsapirc"
   ]
  },
  {
   "cell_type": "code",
   "execution_count": null,
   "metadata": {},
   "outputs": [],
   "source": [
    "def download_era5_monthly(year_start, year_end, output_file):\n",
    "    # Setup the CDS API client\n",
    "    client = cdsapi.Client()\n",
    "\n",
    "    # Define the years and months for the data retrieval\n",
    "    years = [f\"{y:04d}\" for y in range(year_start, year_end + 1)]\n",
    "    months = [f\"{m:02d}\" for m in range(1, 13)]\n",
    "\n",
    "    # Perform the data retrieval\n",
    "    client.retrieve(\n",
    "        'reanalysis-era5-single-levels-monthly-means', # DATASET\n",
    "        {\n",
    "            'product_type': 'monthly_averaged_reanalysis', # REQUEST\n",
    "            # Variables\n",
    "            'variable': [\n",
    "                '2m_temperature',\n",
    "                'mean_sea_level_pressure',\n",
    "                '10m_u_component_of_wind',\n",
    "                '10m_v_component_of_wind',\n",
    "                'sea_surface_temperature',\n",
    "                'total_cloud_cover',\n",
    "            ],\n",
    "            'year': years,\n",
    "            'month': months,\n",
    "            'time': '00:00',\n",
    "            'format': 'netcdf',\n",
    "            # resolution\n",
    "            'grid': '1.5/1.5',\n",
    "        },\n",
    "        output_file # TARGET\n",
    "    )\n",
    "    print(f\"Downloaded: {output_file}\")"
   ]
  },
  {
   "cell_type": "markdown",
   "metadata": {},
   "source": [
    "Perform ERA5 data retrieval with MAIN\n",
    "\n",
    "According to ECMF server state and your network conditions, this process could be 10-20 minutes.\n",
    "\n",
    "Generally, 5-10 minutes for server to realign data by our request and generate corresponding datasubset, and 2-10 miniutes for download. If somebody has already applied for the same data, the realignment would be skipped.\n",
    "\n",
    "Take a cup of coffee lah~"
   ]
  },
  {
   "cell_type": "code",
   "execution_count": 3,
   "metadata": {},
   "outputs": [
    {
     "name": "stderr",
     "output_type": "stream",
     "text": [
      "2025-04-17 17:15:16,557 INFO [2024-09-26T00:00:00] Watch our [Forum](https://forum.ecmwf.int/) for Announcements, news and other discussed topics.\n",
      "2025-04-17 17:15:16,559 WARNING [2024-06-16T00:00:00] CDS API syntax is changed and some keys or parameter names may have also changed. To avoid requests failing, please use the \"Show API request code\" tool on the dataset Download Form to check you are using the correct syntax for your API request.\n",
      "2025-04-17 17:15:17,635 INFO Request ID is 3df6f9d2-2b58-4320-a8a0-106ca825ded6\n",
      "2025-04-17 17:15:18,115 INFO status has been updated to accepted\n",
      "2025-04-17 17:16:12,108 INFO status has been updated to running\n",
      "2025-04-17 17:23:45,645 WARNING Structural differences in grib fields detected when opening in xarray. Opening the grib file safely, however this may result in files with non-intuitive filenames.\n",
      "2025-04-17 17:23:45,647 INFO status has been updated to successful\n",
      "                                                                                        "
     ]
    },
    {
     "name": "stdout",
     "output_type": "stream",
     "text": [
      "Downloaded: ERA5_monthly_1940_2024.nc\n"
     ]
    },
    {
     "name": "stderr",
     "output_type": "stream",
     "text": [
      "\r"
     ]
    }
   ],
   "source": [
    "download_era5_monthly(year_start=1940, year_end=2024, output_file='ERA5_monthly_1940_2024.nc')"
   ]
  },
  {
   "cell_type": "markdown",
   "metadata": {},
   "source": [
    "List geo data in the downloaded file"
   ]
  },
  {
   "cell_type": "code",
   "execution_count": 5,
   "metadata": {},
   "outputs": [
    {
     "name": "stdout",
     "output_type": "stream",
     "text": [
      "<xarray.Dataset> Size: 711MB\n",
      "Dimensions:     (valid_time: 1020, latitude: 121, longitude: 240)\n",
      "Coordinates:\n",
      "    number      int64 8B ...\n",
      "  * valid_time  (valid_time) datetime64[ns] 8kB 1940-01-01 ... 2024-12-01\n",
      "  * latitude    (latitude) float64 968B 90.0 88.5 87.0 ... -87.0 -88.5 -90.0\n",
      "  * longitude   (longitude) float64 2kB 0.0 1.5 3.0 4.5 ... 355.5 357.0 358.5\n",
      "    expver      (valid_time) <U4 16kB ...\n",
      "Data variables:\n",
      "    sst         (valid_time, latitude, longitude) float32 118MB ...\n",
      "    msl         (valid_time, latitude, longitude) float32 118MB ...\n",
      "    tcc         (valid_time, latitude, longitude) float32 118MB ...\n",
      "    u10         (valid_time, latitude, longitude) float32 118MB ...\n",
      "    v10         (valid_time, latitude, longitude) float32 118MB ...\n",
      "    t2m         (valid_time, latitude, longitude) float32 118MB ...\n",
      "Attributes:\n",
      "    GRIB_centre:             ecmf\n",
      "    GRIB_centreDescription:  European Centre for Medium-Range Weather Forecasts\n",
      "    GRIB_subCentre:          0\n",
      "    Conventions:             CF-1.7\n",
      "    institution:             European Centre for Medium-Range Weather Forecasts\n"
     ]
    }
   ],
   "source": [
    "ds = xr.open_dataset('ERA5_monthly_1940_2024.nc')\n",
    "print(ds)"
   ]
  }
 ],
 "metadata": {
  "kernelspec": {
   "display_name": "Python 3",
   "language": "python",
   "name": "python3"
  },
  "language_info": {
   "codemirror_mode": {
    "name": "ipython",
    "version": 3
   },
   "file_extension": ".py",
   "mimetype": "text/x-python",
   "name": "python",
   "nbconvert_exporter": "python",
   "pygments_lexer": "ipython3",
   "version": "3.13.2"
  }
 },
 "nbformat": 4,
 "nbformat_minor": 2
}
