{
 "cells": [
  {
   "cell_type": "code",
   "execution_count": 2,
   "metadata": {},
   "outputs": [],
   "source": [
    "#!/usr/bin/env python\n",
    "import cdsapi\n",
    "import xarray as xr\n",
    "from pathlib import Path"
   ]
  },
  {
   "cell_type": "markdown",
   "metadata": {},
   "source": [
    "Install CDS API by: pip install cdsapi\n",
    "\n",
    "Setup API for personal research purpose: https://cds.climate.copernicus.eu/how-to-api\n",
    "\n",
    "Agreements and manually download:\n",
    "https://cds.climate.copernicus.eu/datasets/reanalysis-era5-single-levels-monthly-means?tab=download#manage-licences\n",
    "\n",
    "For Windows, the initial dir for license is: \"C:\\Users\\$USERNAME$\\.cdsapirc\"\n",
    "\n",
    "For Linux, the license is located at: ~/.cdsapirc"
   ]
  },
  {
   "cell_type": "code",
   "execution_count": 4,
   "metadata": {},
   "outputs": [
    {
     "name": "stdout",
     "output_type": "stream",
     "text": [
      "Output file: E:\\5_Dev\\Github\\PySPOD\\tutorials\\climate\\ERA5_QBO_3D\\ERA5_u3d_monthly_1940_2024.nc\n"
     ]
    }
   ],
   "source": [
    "base_dir = Path(__file__).parent if '__file__' in globals() else Path.cwd()\n",
    "outfile = str((base_dir / 'ERA5_u3d_monthly_1940_2024.nc').resolve())\n",
    "print(f\"Output file: {outfile}\")"
   ]
  },
  {
   "cell_type": "markdown",
   "metadata": {},
   "source": [
    "Perform ERA5 data retrieval with MAIN\n",
    "\n",
    "According to ECMF server state and your network conditions, this process could take 0.5-1.5h.\n",
    "\n",
    "Generally, 10-20 minutes for server to realign data by our request and generate corresponding datasubset, and 0.1-1h for download.\n",
    "If somebody has already applied for the same data, the realignment would be skipped."
   ]
  },
  {
   "cell_type": "code",
   "execution_count": 5,
   "metadata": {},
   "outputs": [
    {
     "name": "stderr",
     "output_type": "stream",
     "text": [
      "2025-04-18 11:27:20,049 INFO [2024-09-26T00:00:00] Watch our [Forum](https://forum.ecmwf.int/) for Announcements, news and other discussed topics.\n",
      "2025-04-18 11:27:20,051 WARNING [2024-06-16T00:00:00] CDS API syntax is changed and some keys or parameter names may have also changed. To avoid requests failing, please use the \"Show API request code\" tool on the dataset Download Form to check you are using the correct syntax for your API request.\n",
      "2025-04-18 11:27:21,042 INFO Request ID is b56eee16-c40a-45ca-85e1-77247a424c91\n",
      "2025-04-18 11:27:21,425 INFO status has been updated to accepted\n",
      "2025-04-18 11:27:31,281 INFO status has been updated to running\n",
      "2025-04-18 11:27:36,874 INFO status has been updated to successful\n",
      "                                                                                         "
     ]
    },
    {
     "name": "stdout",
     "output_type": "stream",
     "text": [
      "Downloaded: E:\\5_Dev\\Github\\PySPOD\\tutorials\\climate\\ERA5_QBO_3D\\ERA5_u3d_monthly_1940_2024.nc\n"
     ]
    },
    {
     "name": "stderr",
     "output_type": "stream",
     "text": [
      "\r"
     ]
    }
   ],
   "source": [
    "year_start, year_end, output_file = 1940, 2024, outfile\n",
    "client = cdsapi.Client()\n",
    "\n",
    "# Define the years and months for the data retrieval\n",
    "years  = [f\"{y:04d}\" for y in range(year_start, year_end + 1)]\n",
    "months = [f\"{m:02d}\" for m in range(1, 13)]\n",
    "levels = ['1','5','10','50','100','150','200','250','350','450','550','650','750','800','850','900','950','1000']\n",
    "\n",
    "client.retrieve(\n",
    "        'reanalysis-era5-pressure-levels-monthly-means',  # dataset name\n",
    "        {\n",
    "            'product_type': 'monthly_averaged_reanalysis',\n",
    "            'variable': 'u_component_of_wind',             # only u-component of wind\n",
    "            'pressure_level': levels,\n",
    "            'year': years,\n",
    "            'month': months,\n",
    "            'time': '00:00',\n",
    "            'format': 'netcdf',\n",
    "            'grid': '1.5/1.5',                             # 167km\n",
    "        },\n",
    "        output_file\n",
    "    )\n",
    "print(f'Downloaded: {output_file}')"
   ]
  },
  {
   "cell_type": "markdown",
   "metadata": {},
   "source": [
    "Now let's visit the metadata."
   ]
  },
  {
   "cell_type": "code",
   "execution_count": 6,
   "metadata": {},
   "outputs": [
    {
     "name": "stdout",
     "output_type": "stream",
     "text": [
      "<xarray.Dataset> Size: 2GB\n",
      "Dimensions:         (valid_time: 1020, pressure_level: 18, latitude: 121,\n",
      "                     longitude: 240)\n",
      "Coordinates:\n",
      "    number          int64 8B ...\n",
      "  * valid_time      (valid_time) datetime64[ns] 8kB 1940-01-01 ... 2024-12-01\n",
      "  * pressure_level  (pressure_level) float64 144B 1e+03 950.0 900.0 ... 5.0 1.0\n",
      "  * latitude        (latitude) float64 968B 90.0 88.5 87.0 ... -87.0 -88.5 -90.0\n",
      "  * longitude       (longitude) float64 2kB 0.0 1.5 3.0 ... 355.5 357.0 358.5\n",
      "    expver          (valid_time) <U4 16kB ...\n",
      "Data variables:\n",
      "    u               (valid_time, pressure_level, latitude, longitude) float32 2GB ...\n",
      "Attributes:\n",
      "    GRIB_centre:             ecmf\n",
      "    GRIB_centreDescription:  European Centre for Medium-Range Weather Forecasts\n",
      "    GRIB_subCentre:          0\n",
      "    Conventions:             CF-1.7\n",
      "    institution:             European Centre for Medium-Range Weather Forecasts\n"
     ]
    }
   ],
   "source": [
    "ds = xr.open_dataset(outfile)\n",
    "print(ds)"
   ]
  }
 ],
 "metadata": {
  "kernelspec": {
   "display_name": "Python 3",
   "language": "python",
   "name": "python3"
  },
  "language_info": {
   "codemirror_mode": {
    "name": "ipython",
    "version": 3
   },
   "file_extension": ".py",
   "mimetype": "text/x-python",
   "name": "python",
   "nbconvert_exporter": "python",
   "pygments_lexer": "ipython3",
   "version": "3.13.2"
  }
 },
 "nbformat": 4,
 "nbformat_minor": 2
}
