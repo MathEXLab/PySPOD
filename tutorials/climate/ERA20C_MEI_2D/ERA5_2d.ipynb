{
 "cells": [
  {
   "cell_type": "markdown",
   "metadata": {},
   "source": [
    "https://cds.climate.copernicus.eu/how-to-api\n",
    "\n",
    "https://cds.climate.copernicus.eu/datasets/reanalysis-era5-single-levels-monthly-means?tab=download#manage-licences"
   ]
  },
  {
   "cell_type": "code",
   "execution_count": null,
   "metadata": {},
   "outputs": [
    {
     "name": "stderr",
     "output_type": "stream",
     "text": [
      "2025-04-17 16:32:46,814 INFO [2024-09-26T00:00:00] Watch our [Forum](https://forum.ecmwf.int/) for Announcements, news and other discussed topics.\n",
      "2025-04-17 16:32:46,816 WARNING [2024-06-16T00:00:00] CDS API syntax is changed and some keys or parameter names may have also changed. To avoid requests failing, please use the \"Show API request code\" tool on the dataset Download Form to check you are using the correct syntax for your API request.\n",
      "2025-04-17 16:32:48,135 INFO Request ID is c52eb334-2f26-4abc-8fae-972072ca5723\n",
      "2025-04-17 16:32:48,620 INFO status has been updated to accepted\n",
      "2025-04-17 16:32:56,168 INFO status has been updated to running\n",
      "2025-04-17 16:39:18,180 WARNING Structural differences in grib fields detected when opening in xarray. Opening the grib file safely, however this may result in files with non-intuitive filenames.\n"
     ]
    }
   ],
   "source": [
    "#!/usr/bin/env python\n",
    "\"\"\"\n",
    "ERA5_2D.py\n",
    "\n",
    "下载 ERA5 单层（月均场）再分析产品，时间范围 1940–2024 年，空间分辨率 0.25°×0.25°。\n",
    "输出为 netCDF 格式文件：ERA5_monthly_1940_2024.nc\n",
    "\"\"\"\n",
    "\n",
    "import cdsapi\n",
    "\n",
    "def download_era5_monthly(year_start=1940, year_end=2024, output_file='ERA5_monthly_1940_2024.nc'):\n",
    "    # 初始化 CDS API 客户端\n",
    "    c = cdsapi.Client()\n",
    "\n",
    "    # 生成年份和月份列表\n",
    "    years = [f\"{y:04d}\" for y in range(year_start, year_end + 1)]\n",
    "    months = [f\"{m:02d}\" for m in range(1, 13)]\n",
    "\n",
    "    # 发起下载请求\n",
    "    c.retrieve(\n",
    "        'reanalysis-era5-single-levels-monthly-means',\n",
    "        {\n",
    "            'product_type': 'monthly_averaged_reanalysis',\n",
    "            # 如果需要更多变量，可在此列表中添加\n",
    "            'variable': [\n",
    "                '2m_temperature',\n",
    "                'mean_sea_level_pressure',\n",
    "                '10m_u_component_of_wind',\n",
    "                '10m_v_component_of_wind',\n",
    "            ],\n",
    "            'year': years,\n",
    "            'month': months,\n",
    "            'time': '00:00',\n",
    "            'format': 'netcdf',\n",
    "            # 可根据需要调整分辨率，默认是 0.25/0.25\n",
    "            'grid': '1.5/1.5',\n",
    "        },\n",
    "        output_file\n",
    "    )\n",
    "    print(f\"下载完成，文件保存在：{output_file}\")\n",
    "\n",
    "if __name__ == '__main__':\n",
    "    download_era5_monthly()\n",
    "    # download_era5_monthly(year_start=1940, year_end=2024, output_file='ERA5_monthly_1940_2024.nc')"
   ]
  }
 ],
 "metadata": {
  "kernelspec": {
   "display_name": "Python 3",
   "language": "python",
   "name": "python3"
  },
  "language_info": {
   "codemirror_mode": {
    "name": "ipython",
    "version": 3
   },
   "file_extension": ".py",
   "mimetype": "text/x-python",
   "name": "python",
   "nbconvert_exporter": "python",
   "pygments_lexer": "ipython3",
   "version": "3.13.2"
  }
 },
 "nbformat": 4,
 "nbformat_minor": 2
}
