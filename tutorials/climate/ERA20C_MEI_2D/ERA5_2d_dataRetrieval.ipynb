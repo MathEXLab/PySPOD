{
 "cells": [
  {
   "cell_type": "code",
   "execution_count": 1,
   "metadata": {},
   "outputs": [],
   "source": [
    "#!/usr/bin/env python\n",
    "\n",
    "import cdsapi\n",
    "import xarray as xr\n",
    "import matplotlib.pyplot as plt"
   ]
  },
  {
   "cell_type": "markdown",
   "metadata": {},
   "source": [
    "Install API: pip install cdsapi\n",
    "\n",
    "Setup API for personal research purpose: https://cds.climate.copernicus.eu/how-to-api\n",
    "\n",
    "Agreements and manually download:\n",
    "https://cds.climate.copernicus.eu/datasets/reanalysis-era5-single-levels-monthly-means?tab=download#manage-licences\n",
    "\n",
    "For Windows, the initial dir for license is: \"C:\\Users\\$USERNAME$\\.cdsapirc\"\n",
    "\n",
    "For Linux: ~/.cdsapirc"
   ]
  },
  {
   "cell_type": "code",
   "execution_count": null,
   "metadata": {},
   "outputs": [],
   "source": [
    "def download_era5_monthly(year_start=1940, year_end=2024, output_file='ERA5_monthly_1940_2024.nc'):\n",
    "    # Setup the CDS API client\n",
    "    client = cdsapi.Client()\n",
    "\n",
    "    # Define the years and months for the data retrieval\n",
    "    years = [f\"{y:04d}\" for y in range(year_start, year_end + 1)]\n",
    "    months = [f\"{m:02d}\" for m in range(1, 13)]\n",
    "\n",
    "    # Perform the data retrieval\n",
    "    client.retrieve(\n",
    "        'reanalysis-era5-single-levels-monthly-means', # DATASET\n",
    "        {\n",
    "            'product_type': 'monthly_averaged_reanalysis', # REQUEST\n",
    "            # Variables\n",
    "            'variable': [\n",
    "                '2m_temperature',\n",
    "                'mean_sea_level_pressure',\n",
    "                '10m_u_component_of_wind',\n",
    "                '10m_v_component_of_wind',\n",
    "                'sea_surface_temperature',\n",
    "                'total_cloud_cover',\n",
    "            ],\n",
    "            'year': years,\n",
    "            'month': months,\n",
    "            'time': '00:00',\n",
    "            'format': 'netcdf',\n",
    "            # resolution\n",
    "            'grid': '1.5/1.5',\n",
    "        },\n",
    "        output_file # TARGET\n",
    "    )\n",
    "    print(f\"Downloaded: {output_file}\")"
   ]
  },
  {
   "cell_type": "markdown",
   "metadata": {},
   "source": [
    "Perform ERA5 data retrieval with MAIN"
   ]
  },
  {
   "cell_type": "code",
   "execution_count": null,
   "metadata": {},
   "outputs": [],
   "source": [
    "download_era5_monthly(year_start=1940, year_end=2024, output_file='ERA5_monthly_1940_2024.nc')"
   ]
  },
  {
   "cell_type": "markdown",
   "metadata": {},
   "source": [
    "List geo data in the downloaded file"
   ]
  },
  {
   "cell_type": "code",
   "execution_count": 4,
   "metadata": {},
   "outputs": [
    {
     "name": "stdout",
     "output_type": "stream",
     "text": [
      "<xarray.Dataset> Size: 474MB\n",
      "Dimensions:     (valid_time: 1020, latitude: 121, longitude: 240)\n",
      "Coordinates:\n",
      "    number      int64 8B ...\n",
      "  * valid_time  (valid_time) datetime64[ns] 8kB 1940-01-01 ... 2024-12-01\n",
      "  * latitude    (latitude) float64 968B 90.0 88.5 87.0 ... -87.0 -88.5 -90.0\n",
      "  * longitude   (longitude) float64 2kB 0.0 1.5 3.0 4.5 ... 355.5 357.0 358.5\n",
      "    expver      (valid_time) <U4 16kB ...\n",
      "Data variables:\n",
      "    msl         (valid_time, latitude, longitude) float32 118MB ...\n",
      "    u10         (valid_time, latitude, longitude) float32 118MB ...\n",
      "    v10         (valid_time, latitude, longitude) float32 118MB ...\n",
      "    t2m         (valid_time, latitude, longitude) float32 118MB ...\n",
      "Attributes:\n",
      "    GRIB_centre:             ecmf\n",
      "    GRIB_centreDescription:  European Centre for Medium-Range Weather Forecasts\n",
      "    GRIB_subCentre:          0\n",
      "    Conventions:             CF-1.7\n",
      "    institution:             European Centre for Medium-Range Weather Forecasts\n"
     ]
    }
   ],
   "source": [
    "ds = xr.open_dataset('ERA5_monthly_1940_2024.nc')\n",
    "print(ds)"
   ]
  }
 ],
 "metadata": {
  "kernelspec": {
   "display_name": "Python 3",
   "language": "python",
   "name": "python3"
  },
  "language_info": {
   "codemirror_mode": {
    "name": "ipython",
    "version": 3
   },
   "file_extension": ".py",
   "mimetype": "text/x-python",
   "name": "python",
   "nbconvert_exporter": "python",
   "pygments_lexer": "ipython3",
   "version": "3.13.2"
  }
 },
 "nbformat": 4,
 "nbformat_minor": 2
}
